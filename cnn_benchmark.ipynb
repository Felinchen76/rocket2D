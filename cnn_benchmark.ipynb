{
 "cells": [
  {
   "metadata": {
    "ExecuteTime": {
     "end_time": "2025-10-19T12:51:42.099674Z",
     "start_time": "2025-10-19T12:51:42.099178Z"
    }
   },
   "cell_type": "code",
   "source": [
    "from keras.models import Sequential\n",
    "from tensorflow.keras.layers import Conv2D, MaxPooling2D, Flatten, Dense\n",
    "from keras.datasets import mnist\n",
    "from keras.utils import to_categorical\n",
    "\n",
    "# load data\n",
    "\n",
    "(X_train, y_train), (X_test, y_test) = mnist.load_data()\n",
    "\n",
    "# mnist has images of 28x28 pixels in grayscale\n",
    "# reshape and normalize\n",
    "X_train = X_train.reshape(-1, 28, 28, 1).astype(\"float32\") / 255.0\n",
    "X_test = X_test.reshape(-1, 28, 28, 1).astype(\"float32\") / 255.0\n",
    "\n",
    "y_train_cat = to_categorical(y_train, 10)\n",
    "y_test_cat = to_categorical(y_test, 10)\n",
    "\n",
    "# simple cnn as benchmark\n",
    "model = Sequential([\n",
    "    Conv2D(16, (3,3), activation='relu', input_shape=(28,28,1)),\n",
    "    MaxPooling2D((2,2)),\n",
    "    Conv2D(32, (3,3), activation='relu'),\n",
    "    MaxPooling2D((2,2)),\n",
    "    Flatten(),\n",
    "    Dense(64, activation='relu'),\n",
    "    Dense(10, activation='softmax')\n",
    "])\n",
    "\n",
    "model.compile(optimizer='adam', loss='categorical_crossentropy', metrics=['accuracy'])\n",
    "model.summary()\n",
    "\n",
    "# training\n",
    "\n",
    "history = model.fit(X_train, y_train_cat, epochs=5, batch_size=64, validation_split=0.1)\n"
   ],
   "id": "9970db06a77d64a6",
   "execution_count": null,
   "outputs": []
  },
  {
   "metadata": {
    "ExecuteTime": {
     "end_time": "2025-10-19T12:51:42.105361Z",
     "start_time": "2025-10-19T12:51:42.103713Z"
    }
   },
   "cell_type": "code",
   "source": [
    "# evaluation\n",
    "loss, acc = model.evaluate(X_test, y_test_cat)\n",
    "print(f\"Test Accuracy: {acc:.3f}\")"
   ],
   "id": "7c84e2924f4fc248",
   "execution_count": null,
   "outputs": []
  },
  {
   "metadata": {
    "ExecuteTime": {
     "start_time": "2025-10-19T12:51:42.107032Z"
    }
   },
   "cell_type": "code",
   "source": "",
   "id": "8e65ed3a3b0c3dfb",
   "execution_count": null,
   "outputs": []
  }
 ],
 "metadata": {
  "kernelspec": {
   "display_name": "Python 3",
   "language": "python",
   "name": "python3"
  },
  "language_info": {
   "codemirror_mode": {
    "name": "ipython",
    "version": 2
   },
   "file_extension": ".py",
   "mimetype": "text/x-python",
   "name": "python",
   "nbconvert_exporter": "python",
   "pygments_lexer": "ipython2",
   "version": "2.7.6"
  }
 },
 "nbformat": 4,
 "nbformat_minor": 5
}
